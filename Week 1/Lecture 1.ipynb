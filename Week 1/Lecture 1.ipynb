{
 "cells": [
  {
   "cell_type": "markdown",
   "metadata": {},
   "source": [
    "# Lecture 1"
   ]
  },
  {
   "cell_type": "markdown",
   "metadata": {},
   "source": [
    "- We will be using Cloudera Hadoop Distribution\n",
    "- I will need 16GB Memory and 100+GB hard disk space"
   ]
  },
  {
   "cell_type": "markdown",
   "metadata": {},
   "source": [
    "Grade Breakdown:\n",
    "- Presence 10%\n",
    "- Assignments (2*30% = 60%)\n",
    "- Final Assessment 30%"
   ]
  },
  {
   "cell_type": "markdown",
   "metadata": {},
   "source": [
    "How big is \"Big Data\"? There isn't just one definition...\n",
    "- Big enough that traditional techniques can't handle it\n",
    "- Your computer can't store/process it"
   ]
  },
  {
   "cell_type": "markdown",
   "metadata": {},
   "source": [
    "Veracity: Referring to the quality of the data"
   ]
  },
  {
   "cell_type": "markdown",
   "metadata": {},
   "source": [
    "- Scale Up: Get a larger server/larger data arrays (vertical)\n",
    "- Scale Out: Distribute the data and workload over several servers (horizontal)\n",
    "    - Scale out is usually quicker for data transfer - more in/out channels if you have more machines\n",
    "- Clusters: behave as one unit (hard interpretability by client)\n",
    "- Distributed File Systems: Independent units viewed in a hierarchy (easy interpretability by client)\n",
    "- NoSQL: Doesn't require to adhere to schema when writing to disk\n",
    "- Parallel Processing: Same machine different sub-tasks\n",
    "- Distributed Processing: Different machines linked by a local network (forming a cluster)"
   ]
  },
  {
   "cell_type": "markdown",
   "metadata": {},
   "source": [
    "Hadoop was designed to answer the question \"How to process big data with reasonable cost and time\"\n",
    "- Hadoop is an open-source software framework that supports data-intensive distributed applications, licensed under the Apache v2 license"
   ]
  },
  {
   "cell_type": "markdown",
   "metadata": {},
   "source": [
    "- I should learn java..."
   ]
  },
  {
   "cell_type": "code",
   "execution_count": null,
   "metadata": {},
   "outputs": [],
   "source": []
  }
 ],
 "metadata": {
  "kernelspec": {
   "display_name": "Python 3",
   "language": "python",
   "name": "python3"
  },
  "language_info": {
   "codemirror_mode": {
    "name": "ipython",
    "version": 3
   },
   "file_extension": ".py",
   "mimetype": "text/x-python",
   "name": "python",
   "nbconvert_exporter": "python",
   "pygments_lexer": "ipython3",
   "version": "3.6.5"
  }
 },
 "nbformat": 4,
 "nbformat_minor": 2
}

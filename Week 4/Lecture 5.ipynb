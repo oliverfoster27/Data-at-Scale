{
 "cells": [
  {
   "cell_type": "markdown",
   "metadata": {},
   "source": [
    "# Lecture 5"
   ]
  },
  {
   "cell_type": "markdown",
   "metadata": {},
   "source": [
    "# Apache Hive"
   ]
  },
  {
   "cell_type": "markdown",
   "metadata": {},
   "source": [
    "- Hive is a data warehouse on top of Hadoop\n",
    "- Can deal with different storage and file formats\n",
    "- Provides HQL (SQL-like query language)\n",
    "- Creates MapReduce jobs (similar to Pig Latin)\n",
    "- Built on top of hadoop\n",
    "- Hive compiles SQL queries into Map Reduce jobs and run the jobs in the hadoop cluster"
   ]
  },
  {
   "cell_type": "markdown",
   "metadata": {},
   "source": [
    "### Hive Internal Components"
   ]
  },
  {
   "cell_type": "markdown",
   "metadata": {},
   "source": [
    "- Compiler and Planner\n",
    "    - it compiles and checks the input query and creates an execution plan\n",
    "- Optimizer\n",
    "    - it optimizes the execution plan before it runs\n",
    "- Execution Engine\n",
    "    - runs the execution plan. it is guaranteed that execution plan is DAG"
   ]
  },
  {
   "cell_type": "markdown",
   "metadata": {},
   "source": [
    "### Hive Data Model"
   ]
  },
  {
   "cell_type": "markdown",
   "metadata": {},
   "source": [
    "- Tables\n",
    "    - Analogous to relational tables\n",
    "    - Each table has a corresponding director in in HDFS\n",
    "    - Data serialized and stored as files within that directory\n",
    "- Partitions\n",
    "    - Each table can be broken into partitions\n",
    "    - Partitions determine distribution of data within subdirectories\n",
    "- Buckets\n",
    "    - Data in each partition divided into buckets\n",
    "    - Based on a hash function in the column\n",
    "    - Each bucket is stored as a file in partition directory"
   ]
  },
  {
   "cell_type": "markdown",
   "metadata": {},
   "source": [
    "### Hive Internal (managed) tables"
   ]
  },
  {
   "cell_type": "markdown",
   "metadata": {},
   "source": [
    "    - When data is temporary"
   ]
  },
  {
   "cell_type": "markdown",
   "metadata": {},
   "source": [
    "### Hive External (not managed) tables"
   ]
  },
  {
   "cell_type": "markdown",
   "metadata": {},
   "source": [
    "    - When data is available in HDFS\n",
    "    - When files are being used outside of Hive"
   ]
  },
  {
   "cell_type": "markdown",
   "metadata": {},
   "source": [
    "### Loading Data in Hive"
   ]
  },
  {
   "cell_type": "markdown",
   "metadata": {},
   "source": [
    "- Hive LOAD\n",
    "    - Load files from HDFS or local file system\n",
    "- Insert from query\n",
    "    - CREATE TABLE AS SELECT or INSERT INTO\n",
    "- WebHDFS + WebHCat\n",
    "    - Load data via REST APIs\n",
    "- Sqoop\n",
    "    - Data transfer from external RDBMS to Hive\n",
    "    - Sqoop can load data directly to/from HCatalog"
   ]
  },
  {
   "cell_type": "markdown",
   "metadata": {},
   "source": [
    "#### You can think of Hive as your PgAdmin/Postgres for big data while Pig Latin is more for data flow & semi-structured data"
   ]
  },
  {
   "cell_type": "markdown",
   "metadata": {},
   "source": [
    "# Apache Impala"
   ]
  },
  {
   "cell_type": "markdown",
   "metadata": {},
   "source": [
    "- General-purpose SQL engine\n",
    "- Runs directly within Hadoop\n",
    "- Does not generate it's own Map Reduce jobs - it has it's own direct data access\n",
    "- Faster than Hive"
   ]
  },
  {
   "cell_type": "markdown",
   "metadata": {},
   "source": [
    "# Workshop for Hive and Impala..."
   ]
  },
  {
   "cell_type": "code",
   "execution_count": null,
   "metadata": {},
   "outputs": [],
   "source": []
  }
 ],
 "metadata": {
  "kernelspec": {
   "display_name": "Python 3",
   "language": "python",
   "name": "python3"
  },
  "language_info": {
   "codemirror_mode": {
    "name": "ipython",
    "version": 3
   },
   "file_extension": ".py",
   "mimetype": "text/x-python",
   "name": "python",
   "nbconvert_exporter": "python",
   "pygments_lexer": "ipython3",
   "version": "3.6.5"
  }
 },
 "nbformat": 4,
 "nbformat_minor": 2
}

{
 "cells": [
  {
   "cell_type": "markdown",
   "metadata": {},
   "source": [
    "# Lecture 2"
   ]
  },
  {
   "cell_type": "markdown",
   "metadata": {},
   "source": [
    "## Hadoop Concepts"
   ]
  },
  {
   "cell_type": "markdown",
   "metadata": {},
   "source": [
    "### Notes"
   ]
  },
  {
   "cell_type": "markdown",
   "metadata": {},
   "source": [
    "- Hadoop deals with distributed storage\n",
    "- Spark deals with distributed processing\n",
    "    - Can use PySpark for python scripting\n",
    "- Cleaning data in Hadoop: HDFS & Map Reduce"
   ]
  },
  {
   "cell_type": "markdown",
   "metadata": {},
   "source": [
    "### What is Hadoop?"
   ]
  },
  {
   "cell_type": "markdown",
   "metadata": {},
   "source": [
    "- open-source scalable fault-tolerant framework for large scale data storage and processing\n",
    "- Written in java\n",
    "- Designed for distributed storage and processing\n",
    "- Scales horizontally\n",
    "- Hadoop provides storage for big data at reasonable cost\n",
    "- Allows to capture new or more data\n",
    "- You can store data and historical data longer\n",
    "- It moves computation to data, instead of data to computation\n",
    "- Automatic distribution of data and work across machines"
   ]
  },
  {
   "cell_type": "markdown",
   "metadata": {},
   "source": [
    "### Terminology"
   ]
  },
  {
   "cell_type": "markdown",
   "metadata": {},
   "source": [
    "- NameNode & Secondary NameNode\n",
    "    - Master of the system (storage)\n",
    "    - Secondary is for backup\n",
    "- DataNodes\n",
    "    - Slaves (storage)\n",
    "- Job Tracker\n",
    "    - Master of the system (process)\n",
    "- Task Tracker\n",
    "    - Slaves (processes)\n",
    "- Client\n",
    "    - Your point of access to the system\n",
    "- Hadoop = HDFS (Storage) + MapReduce (Processing)\n",
    "- Running a Hadoop Job:\n",
    "    - Place input files in HDFS\n",
    "    - Run MapReduce (static or streaming)"
   ]
  },
  {
   "cell_type": "markdown",
   "metadata": {},
   "source": [
    "### Hadoop Running Models"
   ]
  },
  {
   "cell_type": "markdown",
   "metadata": {},
   "source": [
    "- Standalone (local)\n",
    "    - Single machine\n",
    "- Pseudo-distributed\n",
    "    - Single machine\n",
    "    - Each service runs on it's own JVM\n",
    "- Fully distributed\n",
    "    - Two machines at least\n",
    "    - Each service runs on it's own JVM"
   ]
  },
  {
   "cell_type": "markdown",
   "metadata": {},
   "source": [
    "- Hadoop 1: HDFS + Map Reduce\n",
    "- Hadoop 2: HDFS + YARN (cluster resource management) + MapReduce (with other preprocessing)"
   ]
  },
  {
   "cell_type": "markdown",
   "metadata": {},
   "source": [
    "#### Hadoop Tutorial Video:"
   ]
  },
  {
   "cell_type": "markdown",
   "metadata": {},
   "source": [
    "https://www.youtube.com/watch?v=mafw2-CVYnA&list=WL&index=2&t=0s"
   ]
  },
  {
   "cell_type": "markdown",
   "metadata": {},
   "source": [
    "#### Instead of installing hadoop on it's own (hard) you can go with a commercial distribution of hadoop"
   ]
  },
  {
   "cell_type": "markdown",
   "metadata": {},
   "source": [
    "- These versions require you to pay\n",
    "- Each vendor has a different level of \"open source\" (some vendor lock-in)\n",
    "- Cloudera, amazon EMR, IGM Biginsights etc...\n",
    "- Big data suites:\n",
    "    - Pentaho (we have this at socgen)"
   ]
  },
  {
   "cell_type": "markdown",
   "metadata": {},
   "source": [
    "### VMs are stored at the following location: \"C:\\Users\\olive\\VirtualBox VMs\""
   ]
  },
  {
   "cell_type": "code",
   "execution_count": null,
   "metadata": {},
   "outputs": [],
   "source": []
  }
 ],
 "metadata": {
  "kernelspec": {
   "display_name": "Python 3",
   "language": "python",
   "name": "python3"
  },
  "language_info": {
   "codemirror_mode": {
    "name": "ipython",
    "version": 3
   },
   "file_extension": ".py",
   "mimetype": "text/x-python",
   "name": "python",
   "nbconvert_exporter": "python",
   "pygments_lexer": "ipython3",
   "version": "3.6.5"
  }
 },
 "nbformat": 4,
 "nbformat_minor": 2
}
